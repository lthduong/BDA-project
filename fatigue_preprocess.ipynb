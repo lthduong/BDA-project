{
 "cells": [
  {
   "cell_type": "code",
   "execution_count": 9,
   "metadata": {},
   "outputs": [],
   "source": [
    "import pandas as pd\n",
    "import numpy as np"
   ]
  },
  {
   "cell_type": "code",
   "execution_count": 10,
   "metadata": {},
   "outputs": [
    {
     "name": "stdout",
     "output_type": "stream",
     "text": [
      "<class 'pandas.core.frame.DataFrame'>\n",
      "Int64Index: 18590 entries, 0 to 22749\n",
      "Data columns (total 9 columns):\n",
      " #   Column         Non-Null Count  Dtype  \n",
      "---  ------         --------------  -----  \n",
      " 0   id             18590 non-null  object \n",
      " 1   join_date      18590 non-null  object \n",
      " 2   sex            18590 non-null  object \n",
      " 3   company_type   18590 non-null  object \n",
      " 4   wfh            18590 non-null  object \n",
      " 5   designation    18590 non-null  float64\n",
      " 6   work_hours     18590 non-null  float64\n",
      " 7   fatigue_score  18590 non-null  float64\n",
      " 8   burn_rate      18590 non-null  float64\n",
      "dtypes: float64(4), object(5)\n",
      "memory usage: 1.4+ MB\n"
     ]
    }
   ],
   "source": [
    "burnout = pd.read_csv('data/train.csv')\n",
    "burnout = burnout.dropna().rename(columns={'Employee ID':'id', 'Date of Joining':'join_date', 'Gender':'sex', 'Company Type':'company_type', 'WFH Setup Available':'wfh', 'Designation':'designation', 'Resource Allocation':'work_hours', 'Mental Fatigue Score':'fatigue_score', 'Burn Rate':'burn_rate'})\n",
    "burnout.info()"
   ]
  },
  {
   "cell_type": "markdown",
   "metadata": {},
   "source": [
    "Sex:\n",
    "\n",
    "-   If the employee is male, `sex` = 0\n",
    "-   If the employee is female, `sex` = 1\n",
    "\n",
    "Work from home setup:\n",
    "\n",
    "-   If work from home is not set up, `wfh` = 0\n",
    "-   If work from home is set up, `wfh` = 1"
   ]
  },
  {
   "cell_type": "code",
   "execution_count": 11,
   "metadata": {},
   "outputs": [
    {
     "name": "stderr",
     "output_type": "stream",
     "text": [
      "C:\\Users\\Duong\\AppData\\Local\\Temp\\ipykernel_10708\\201627864.py:1: SettingWithCopyWarning: \n",
      "A value is trying to be set on a copy of a slice from a DataFrame\n",
      "\n",
      "See the caveats in the documentation: https://pandas.pydata.org/pandas-docs/stable/user_guide/indexing.html#returning-a-view-versus-a-copy\n",
      "  burnout['sex'][burnout['sex'] == 'Female'] = 1\n",
      "C:\\Users\\Duong\\AppData\\Local\\Temp\\ipykernel_10708\\201627864.py:2: SettingWithCopyWarning: \n",
      "A value is trying to be set on a copy of a slice from a DataFrame\n",
      "\n",
      "See the caveats in the documentation: https://pandas.pydata.org/pandas-docs/stable/user_guide/indexing.html#returning-a-view-versus-a-copy\n",
      "  burnout['sex'][burnout['sex'] == 'Male'] = 0\n",
      "C:\\Users\\Duong\\AppData\\Local\\Temp\\ipykernel_10708\\201627864.py:3: SettingWithCopyWarning: \n",
      "A value is trying to be set on a copy of a slice from a DataFrame\n",
      "\n",
      "See the caveats in the documentation: https://pandas.pydata.org/pandas-docs/stable/user_guide/indexing.html#returning-a-view-versus-a-copy\n",
      "  burnout['wfh'][burnout['wfh'] == 'Yes'] = 1\n",
      "C:\\Users\\Duong\\AppData\\Local\\Temp\\ipykernel_10708\\201627864.py:4: SettingWithCopyWarning: \n",
      "A value is trying to be set on a copy of a slice from a DataFrame\n",
      "\n",
      "See the caveats in the documentation: https://pandas.pydata.org/pandas-docs/stable/user_guide/indexing.html#returning-a-view-versus-a-copy\n",
      "  burnout['wfh'][burnout['wfh'] == 'No'] = 0\n"
     ]
    }
   ],
   "source": [
    "burnout['fatigue_score'] = ( (burnout['fatigue_score'] - 0) / (10-0) ) * (1-0)+0"
   ]
  },
  {
   "cell_type": "code",
   "execution_count": 12,
   "metadata": {},
   "outputs": [],
   "source": [
    "burnout.to_csv('data/burnout.csv', sep=',')"
   ]
  }
 ],
 "metadata": {
  "kernelspec": {
   "display_name": "Python 3.10.7 64-bit",
   "language": "python",
   "name": "python3"
  },
  "language_info": {
   "codemirror_mode": {
    "name": "ipython",
    "version": 3
   },
   "file_extension": ".py",
   "mimetype": "text/x-python",
   "name": "python",
   "nbconvert_exporter": "python",
   "pygments_lexer": "ipython3",
   "version": "3.10.7"
  },
  "orig_nbformat": 4,
  "vscode": {
   "interpreter": {
    "hash": "3c3b3a31567f6e32520328e4ff63c56821a8d90883c4f6bb9c77bae91df6d8f9"
   }
  }
 },
 "nbformat": 4,
 "nbformat_minor": 2
}
