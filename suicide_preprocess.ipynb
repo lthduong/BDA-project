{
 "cells": [
  {
   "cell_type": "code",
   "execution_count": null,
   "metadata": {},
   "outputs": [],
   "source": [
    "import pandas as pd\n",
    "import pycountry_convert as pc\n",
    "from pycountry import countries"
   ]
  },
  {
   "cell_type": "markdown",
   "metadata": {},
   "source": [
    "## Model\n",
    "suicide ~ population \\\n",
    "suicide ~ population + gdp_per_capita \\\n",
    "group by country (or year) (or age) suicide ~ population + gdp_per_capita"
   ]
  },
  {
   "cell_type": "code",
   "execution_count": null,
   "metadata": {},
   "outputs": [],
   "source": [
    "suicide_df = pd.read_csv('data/suicide.csv')\n",
    "suicide_df = suicide_df.rename(columns={'suicides_no':'suicide', ' gdp_for_year ($) ':'total_gdp', 'gdp_per_capita ($)':'gdp_per_capita', 'HDI for year':'hdi'})\n",
    "suicide_df = suicide_df.drop(columns=['suicides/100k pop', 'hdi', 'country-year', 'total_gdp', 'generation'])\n",
    "suicide_df      "
   ]
  },
  {
   "cell_type": "markdown",
   "metadata": {},
   "source": [
    "## Get the rows belong to European countries"
   ]
  },
  {
   "cell_type": "code",
   "execution_count": null,
   "metadata": {},
   "outputs": [],
   "source": [
    "# Get the country names since some countries are not recognized by pycountry\n",
    "countries_name_list = [country.name for country in list(countries)]\n",
    "\n",
    "# Function to extract continent code\n",
    "def get_continent(country):\n",
    "    country_code = pc.country_name_to_country_alpha2(country)\n",
    "    return pc.country_alpha2_to_continent_code(country_code)\n",
    "\n",
    "suicide_df = suicide_df[suicide_df['country'].isin(countries_name_list)]   # Filter out invalid countries\n",
    "suicide_df['continent'] = suicide_df['country'].apply(get_continent)       # Extract continent code\n",
    "suicide_df = suicide_df[suicide_df['continent'] == 'EU']                   # Get the countries in EU\n",
    "suicide_df.head(5)"
   ]
  },
  {
   "cell_type": "markdown",
   "metadata": {},
   "source": [
    "## Group data by year and country"
   ]
  },
  {
   "cell_type": "code",
   "execution_count": null,
   "metadata": {},
   "outputs": [],
   "source": [
    "suicide_df_grouped = suicide_df.groupby(['year', 'country']).aggregate({\n",
    "    'suicide':'sum', 'population':'sum', 'gdp_per_capita':'mean'})\n",
    "df = suicide_df_grouped.unstack().reset_index()\n",
    "df = df[(1991 <= df['year']) & (df['year'] <= 2015)].dropna(axis=1).set_index('year').stack()\n",
    "df\n"
   ]
  },
  {
   "cell_type": "markdown",
   "metadata": {},
   "source": [
    "## Generate new columns\n",
    "\n",
    "-   The dataframe is tranposed and stacked so that it have a better form\n",
    "-   Columns `suicides_per_100k` and `gdp_per_capita` are generated using these data\n",
    "-   The dataframe is exported to a csv file for future processes"
   ]
  },
  {
   "cell_type": "code",
   "execution_count": null,
   "metadata": {},
   "outputs": [],
   "source": [
    "output_df = df.copy()\n",
    "output_df['suicides_per_100k'] = (output_df['suicide']/output_df['population']) * 100000\n",
    "output_df.to_csv(\"data/suicide_cleaned.csv\")"
   ]
  }
 ],
 "metadata": {
  "kernelspec": {
   "display_name": "Python 3.10.7 64-bit",
   "language": "python",
   "name": "python3"
  },
  "language_info": {
   "codemirror_mode": {
    "name": "ipython",
    "version": 3
   },
   "file_extension": ".py",
   "mimetype": "text/x-python",
   "name": "python",
   "nbconvert_exporter": "python",
   "pygments_lexer": "ipython3",
   "version": "3.10.7"
  },
  "orig_nbformat": 4,
  "vscode": {
   "interpreter": {
    "hash": "3c3b3a31567f6e32520328e4ff63c56821a8d90883c4f6bb9c77bae91df6d8f9"
   }
  }
 },
 "nbformat": 4,
 "nbformat_minor": 2
}
